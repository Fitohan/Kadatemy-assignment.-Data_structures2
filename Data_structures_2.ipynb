{
 "cells": [
  {
   "cell_type": "code",
   "execution_count": null,
   "id": "a1ce5487",
   "metadata": {},
   "outputs": [],
   "source": [
    "#1.\n",
    "x=16-2*5//3+1\n",
    "print(x)\n",
    "#computed 2*5=10\n",
    "#computed 3+1=4\n",
    "#10//4=2\n",
    "#16-2=14\n",
    "\n",
    "y=2**3*3\n",
    "print(y)\n",
    "#2**3=2*2*2=8\n",
    "#8*3=24"
   ]
  },
  {
   "cell_type": "code",
   "execution_count": null,
   "id": "d636199f",
   "metadata": {},
   "outputs": [],
   "source": [
    "#2.\n",
    "z=(6*1)-2\n",
    "z\n",
    "w=6*(1-2)\n",
    "w"
   ]
  },
  {
   "cell_type": "code",
   "execution_count": null,
   "id": "181a5380",
   "metadata": {},
   "outputs": [],
   "source": [
    "#3.\n",
    "radius=7\n",
    "PI=22/7\n",
    "Area= (PI*radius**2)\n",
    "Area\n",
    "print(\"The Area is = \"+str(Area))\n"
   ]
  },
  {
   "cell_type": "code",
   "execution_count": null,
   "id": "f0c08fa2",
   "metadata": {},
   "outputs": [],
   "source": [
    "#4.\n",
    "x=[0,1,2,3,4,5]\n",
    "3 in x"
   ]
  },
  {
   "cell_type": "code",
   "execution_count": null,
   "id": "f89b9e77",
   "metadata": {},
   "outputs": [],
   "source": [
    "#5.\n",
    "x=25\n",
    "y=100\n",
    "#a.\n",
    "z1=x<y and y>x\n",
    "#b.\n",
    "z2=x<y or y<x\n",
    "#c.\n",
    "z3=not(x<y and y>x)\n",
    "print(z1)\n",
    "print(z2)\n",
    "print(z3)"
   ]
  },
  {
   "cell_type": "code",
   "execution_count": null,
   "id": "cff70535",
   "metadata": {},
   "outputs": [],
   "source": [
    "#6.\n",
    "list=[12.2,5,7,8,9,2.5,2.7,8.9]\n",
    "x=sum(list)\n",
    "print(x)"
   ]
  },
  {
   "cell_type": "code",
   "execution_count": null,
   "id": "a1cfa7b6",
   "metadata": {},
   "outputs": [],
   "source": [
    "#7.\n",
    "list1=[3,5,1,3,9,5,7]\n",
    "list1.sort()\n",
    "list1"
   ]
  },
  {
   "cell_type": "code",
   "execution_count": null,
   "id": "8545e046",
   "metadata": {},
   "outputs": [],
   "source": [
    "#8.\n",
    "list2 = [1, 2, 5, 7, 9, 0, 3, 6, 7, 1, 3, 5, 6, 8, 2, 9, 0, 5, 2, 1, 2, 4, 2]\n",
    "count_2= list2.count(2)\n",
    "print(count_2)\n",
    "\n"
   ]
  },
  {
   "cell_type": "code",
   "execution_count": 91,
   "id": "1ef5d172",
   "metadata": {},
   "outputs": [],
   "source": [
    "#9.\n",
    "list3 =[\"Tosin\", 10.4, 9, (23, \"Faith\", [10, [\"Chinelo\", \"Sandra\"], 22]), 100, 85.5, 12.4, \"Promise\", (\"11\", 90)]\n",
    "\n",
    "a=list3[3][2][1][0]\n",
    "a\n",
    "\n",
    "b=list3[3][-2]\n",
    "b\n",
    "\n",
    "c=list3[4]\n",
    "c\n",
    "\n",
    "\n",
    "d=list3[-4]\n",
    "d\n",
    "\n",
    "e=list3[-1][1]\n",
    "e\n",
    "classmates=[a,b,c,d,e]\n",
    "print (classmates)\n",
    "\n",
    "print(\"{} couldn\\'t score {}%,she got {}%,However,{} is a close second with {}%.\".format(classmates[0],classmates[2],classmates[4],classmates[1],classmates[3]))"
   ]
  },
  {
   "cell_type": "code",
   "execution_count": null,
   "id": "417a168a",
   "metadata": {},
   "outputs": [],
   "source": [
    "#10.\n",
    "\n",
    "list4 = [\"Chima\", \"Ebuka\", \"Rose\", \"Hassan\", \"Bisi\"]\n",
    "\n",
    "list4[1]= \"Faith\"\n"
   ]
  },
  {
   "cell_type": "code",
   "execution_count": null,
   "id": "9eb62d97",
   "metadata": {},
   "outputs": [],
   "source": [
    "#11.\n",
    "list4 = [\"Chima\", \"Ebuka\", \"Rose\", \"Hassan\", \"Bisi\"]\n",
    "list4 [2]"
   ]
  },
  {
   "cell_type": "code",
   "execution_count": null,
   "id": "7bba6f20",
   "metadata": {},
   "outputs": [],
   "source": [
    "#12.\n",
    "list4 = [\"Chima\", \"Ebuka\", \"Rose\", \"Hassan\", \"Bisi\"]\n",
    "list4.append('Faith')"
   ]
  },
  {
   "cell_type": "code",
   "execution_count": null,
   "id": "e338ca87",
   "metadata": {},
   "outputs": [],
   "source": [
    "#13.\n",
    "sets = {3, 1, 10, 4, 5, 6}\n",
    "\n",
    "#Set {} is immutable, doesn't allow indexing, slicing etc,\n",
    "#once it is created it cannot be changed.\n",
    "\n",
    "print(sets)"
   ]
  },
  {
   "cell_type": "code",
   "execution_count": null,
   "id": "7ea4b3bd",
   "metadata": {},
   "outputs": [],
   "source": [
    "#14.\n",
    "set1 = {10, 20, 30, 40, 50}\n",
    "set2 = {30, 40, 50, 60, 70}\n",
    "set3=set1.union(set2)\n",
    "set3"
   ]
  },
  {
   "cell_type": "code",
   "execution_count": null,
   "id": "c9d1601b",
   "metadata": {},
   "outputs": [],
   "source": [
    "#15.\n",
    "#create a string\n",
    "n=(\"Computer data information hardware software CPU Keyboard Mouse\")\n",
    "\n",
    "#turn the string into a list of words\n",
    "\n",
    "mylist=n.split()\n",
    "print(mylist)\n",
    "\n",
    "#two methods to a delete a words from the list\n",
    "\n",
    "#a.\n",
    "mylist2=mylist.remove(\"information\")\n",
    "print(mylist2)\n",
    "a=mylist\n",
    "a\n",
    "\n",
    "#b.\n",
    "mylist3 = mylist.pop(1)\n",
    "print(mylist3)\n",
    "b=mylist\n",
    "b\n",
    "\n",
    "#sort the list.\n",
    "mylist4=mylist.sort()\n",
    "print(mylist4)\n",
    "c=mylist\n",
    "c\n",
    "\n",
    "#add two new words to the list\n",
    "mylist5=mylist.append(\"Architecture\")\n",
    "print(mylist5)\n",
    "d=mylist\n",
    "d\n",
    "\n",
    "mylist6=mylist.insert(2,\"ABACUS\")\n",
    "print(mylist6)\n",
    "e=mylist\n",
    "e\n",
    "\n",
    "#join the list of words into a sinle dtrin uisng join\n",
    "s=' '.join(e)\n",
    "s\n"
   ]
  },
  {
   "cell_type": "code",
   "execution_count": null,
   "id": "5adb33dc",
   "metadata": {},
   "outputs": [],
   "source": []
  }
 ],
 "metadata": {
  "kernelspec": {
   "display_name": "Python 3",
   "language": "python",
   "name": "python3"
  },
  "language_info": {
   "codemirror_mode": {
    "name": "ipython",
    "version": 3
   },
   "file_extension": ".py",
   "mimetype": "text/x-python",
   "name": "python",
   "nbconvert_exporter": "python",
   "pygments_lexer": "ipython3",
   "version": "3.8.8"
  }
 },
 "nbformat": 4,
 "nbformat_minor": 5
}
